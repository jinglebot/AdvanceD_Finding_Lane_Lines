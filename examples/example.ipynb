{
 "cells": [
  {
   "cell_type": "markdown",
   "metadata": {
    "deletable": true,
    "editable": true
   },
   "source": [
    "## Advanced Lane Finding Project\n",
    "\n",
    "The goals / steps of this project are the following:\n",
    "\n",
    "* Compute the camera calibration matrix and distortion coefficients given a set of chessboard images.\n",
    "* Apply a distortion correction to raw images.\n",
    "* Use color transforms, gradients, etc., to create a thresholded binary image.\n",
    "* Apply a perspective transform to rectify binary image (\"birds-eye view\").\n",
    "* Detect lane pixels and fit to find the lane boundary.\n",
    "* Determine the curvature of the lane and vehicle position with respect to center.\n",
    "* Warp the detected lane boundaries back onto the original image.\n",
    "* Output visual display of the lane boundaries and numerical estimation of lane curvature and vehicle position."
   ]
  },
  {
   "cell_type": "code",
   "execution_count": 1,
   "metadata": {
    "collapsed": true
   },
   "outputs": [],
   "source": [
    "import numpy as np\n",
    "import cv2\n",
    "import glob\n",
    "import matplotlib.pyplot as plt\n",
    "import matplotlib.image as mpimg\n",
    "import pickle\n",
    "%matplotlib qt"
   ]
  },
  {
   "cell_type": "markdown",
   "metadata": {},
   "source": [
    "## Compute the camera calibration matrix and distortion coefficients given a set of chessboard images."
   ]
  },
  {
   "cell_type": "code",
   "execution_count": 2,
   "metadata": {
    "collapsed": false,
    "deletable": true,
    "editable": true
   },
   "outputs": [],
   "source": [
    "# Get objpoints, imgpoints\n",
    "def calibrate_camera(images):\n",
    "    objp = np.zeros((6*9,3), np.float32)\n",
    "    objp[:,:2] = np.mgrid[0:9,0:6].T.reshape(-1,2)\n",
    "    objpoints = [] # 3d points in real world space\n",
    "    imgpoints = [] # 2d points in image plane.\n",
    "    for idx,fname in enumerate(images):\n",
    "        img = cv2.imread(fname)\n",
    "        gray = cv2.cvtColor(img,cv2.COLOR_BGR2GRAY)\n",
    "        ret, corners = cv2.findChessboardCorners(gray, (9,6),None)\n",
    "        if ret == True:\n",
    "            objpoints.append(objp)\n",
    "            imgpoints.append(corners)\n",
    "            img = cv2.drawChessboardCorners(img, (9,6), corners, ret)\n",
    "            #cv2.imshow(fname,img)\n",
    "            write_name = '../output_images/chessboard_corners/' + str(idx) + '.jpg' \n",
    "            #cv2.imwrite(write_name, img)      \n",
    "            cv2.waitKey(100)\n",
    "\n",
    "        cv2.destroyAllWindows()\n",
    "    return objpoints, imgpoints\n",
    "\n",
    "# Get camera calibration matrix and distortion coefficients\n",
    "def distort_coeffs(img, objpoints, imgpoints):\n",
    "    img = mpimg.imread(img)\n",
    "    img_size = (img.shape[1], img.shape[0])\n",
    "    ret, mtx, dist, rvecs, tvecs = cv2.calibrateCamera(objpoints, imgpoints, img_size, None, None)\n",
    "    return mtx, dist"
   ]
  },
  {
   "cell_type": "code",
   "execution_count": 3,
   "metadata": {
    "collapsed": true
   },
   "outputs": [],
   "source": [
    "# Undistort image function\n",
    "def cal_undistort(img, mtx, dist):\n",
    "    undst = cv2.undistort(img, mtx, dist, None, mtx)\n",
    "    return undst"
   ]
  },
  {
   "cell_type": "markdown",
   "metadata": {},
   "source": [
    "# Test undistortion on a chessboard images\n",
    "calibration_images = glob.glob('../camera_cal/calibration*.jpg')\n",
    "objpoints, imgpoints = calibrate_camera(calibration_images)\n",
    "chessboard = '../camera_cal/calibration1.jpg'\n",
    "mtx, dist = distort_coeffs(chessboard, objpoints, imgpoints)\n",
    "\n",
    "chessboard_images = glob.glob('../camera_cal/calibration*.jpg')\n",
    "\n",
    "for idx,fname in enumerate(chessboard_images):\n",
    "    chessboard_img = cv2.imread(fname)\n",
    "    chessboard_undst = cal_undistort(chessboard_img, mtx, dist)\n",
    "    write_name = '../output_images/undistorted_chessboards/' + str(idx) + '.jpg'\n",
    "    #cv2.imwrite(write_name, chessboard_undst)      \n",
    "\n",
    "    # Visualize undistortion\n",
    "    f, (ax1, ax2) = plt.subplots(1, 2, figsize=(20,10))\n",
    "    ax1.imshow(chessboard_img)\n",
    "    ax1.set_title(fname, fontsize=12)\n",
    "    ax2.imshow(chessboard_undst)\n",
    "    ax2.set_title(write_name, fontsize=12)"
   ]
  },
  {
   "cell_type": "markdown",
   "metadata": {},
   "source": [
    "## Apply a distortion correction to raw images."
   ]
  },
  {
   "cell_type": "markdown",
   "metadata": {
    "deletable": true,
    "editable": true
   },
   "source": [
    "test_images = glob.glob('../test_images/test*.jpg')\n",
    "#test_images = glob.glob('../test_images/straight_lines*.jpg')\n",
    "\n",
    "for idx,test_image in enumerate(test_images):\n",
    "    dist_img = mpimg.imread(test_image)\n",
    "    test_undst = cal_undistort(dist_img, mtx, dist)\n",
    "    #write_name = '../output_images/undistorted_test_images/test' + str(idx) + '.jpg'\n",
    "    #write_name = '../output_images/undistorted_test_images/straight_lines' + str(idx) + '.jpg'\n",
    "    #cv2.imwrite(write_name, test_undst)      \n",
    "    \n",
    "    # Visualize undistortion\n",
    "    f, (ax1, ax2) = plt.subplots(1, 2, figsize=(20,10))\n",
    "    ax1.imshow(dist_img)\n",
    "    ax1.set_title('Original Distorted Image', fontsize=20)\n",
    "    ax2.imshow(test_undst)\n",
    "    ax2.set_title('Undistorted Image', fontsize=20)"
   ]
  },
  {
   "cell_type": "markdown",
   "metadata": {
    "deletable": true,
    "editable": true
   },
   "source": [
    "## Use color transforms, gradients, etc., to create a thresholded binary image."
   ]
  },
  {
   "cell_type": "markdown",
   "metadata": {},
   "source": [
    "### Pre-process images\n",
    "### Undistort, Grayscale, derive Sobel operators"
   ]
  },
  {
   "cell_type": "markdown",
   "metadata": {},
   "source": [
    "# Read in the saved camera matrix and distortion coefficients\n",
    "dist_pickle = pickle.load( open( \"../output_images/wide_dist_pickle.p\", \"rb\" ) )\n",
    "mtx = dist_pickle[\"mtx\"]\n",
    "dist = dist_pickle[\"dist\"]\n",
    "\n",
    "# Sobel kernel size\n",
    "ksize = 3"
   ]
  },
  {
   "cell_type": "code",
   "execution_count": 4,
   "metadata": {
    "collapsed": true
   },
   "outputs": [],
   "source": [
    "def process_image(img, sobel_kernel=3):\n",
    "    gray = cv2.cvtColor(img, cv2.COLOR_RGB2GRAY)\n",
    "    abs_sobelx = np.absolute(cv2.Sobel(gray, cv2.CV_64F, 1, 0, ksize=sobel_kernel))\n",
    "    abs_sobely = np.absolute(cv2.Sobel(gray, cv2.CV_64F, 0, 1, ksize=sobel_kernel))\n",
    "    return abs_sobelx, abs_sobely"
   ]
  },
  {
   "cell_type": "markdown",
   "metadata": {},
   "source": [
    "## Gradients"
   ]
  },
  {
   "cell_type": "code",
   "execution_count": 5,
   "metadata": {
    "collapsed": false
   },
   "outputs": [],
   "source": [
    "# Scaled Sobel threshold function\n",
    "def abs_sobel_thresh(img, orient='x', sobel_kernel=3, thresh=(0, 255)):\n",
    "    abs_sobelx, abs_sobely = process_image(img, sobel_kernel)\n",
    "    if orient == 'x': abs_sobel = abs_sobelx\n",
    "    if orient == 'y': abs_sobel = abs_sobely\n",
    "    scaled_sobel = np.uint8(255 * abs_sobel / np.max(abs_sobel))\n",
    "    grad_binary = np.zeros_like(scaled_sobel)\n",
    "    grad_binary[(scaled_sobel >= thresh[0]) & (scaled_sobel <= thresh[1])] = 1\n",
    "    return grad_binary\n",
    "    \n",
    "#grad_binary = abs_sobel_thresh(sample_img, orient='x', sobel_kernel=3, thresh=(50,150))\n",
    "#f, (ax1, ax2) = plt.subplots(1, 2, figsize=(24, 9))\n",
    "#f.tight_layout()\n",
    "#ax1.imshow(sample_img)\n",
    "#ax1.set_title('Original Image', fontsize=30)\n",
    "#ax2.imshow(grad_binary, cmap='gray')\n",
    "#ax2.set_title('Thresholded Gradient', fontsize=30)\n",
    "#plt.subplots_adjust(left=0., right=1, top=0.9, bottom=0.)"
   ]
  },
  {
   "cell_type": "code",
   "execution_count": 6,
   "metadata": {
    "collapsed": true
   },
   "outputs": [],
   "source": [
    "# Gradient magnitude threshold function\n",
    "def mag_thresh(img, sobel_kernel=3, mag_thresh=(0, 255)):\n",
    "    abs_sobelx, abs_sobely = process_image(img, sobel_kernel)\n",
    "    magnitude = np.sqrt(abs_sobelx**2 + abs_sobely**2)\n",
    "    scaled_sobel = np.uint8(255 * magnitude / np.max(magnitude))\n",
    "    mag_binary = np.zeros_like(scaled_sobel)\n",
    "    mag_binary[(scaled_sobel >= mag_thresh[0]) & (scaled_sobel <= mag_thresh[1])] = 1\n",
    "    return mag_binary\n",
    "    \n",
    "#mag_binary = mag_thresh(sample_img, sobel_kernel=9, mag_thresh=(40, 140))\n",
    "#f, (ax1, ax2) = plt.subplots(1, 2, figsize=(24, 9))\n",
    "#f.tight_layout()\n",
    "#ax1.imshow(sample_img)\n",
    "#ax1.set_title('Original Image', fontsize=20)\n",
    "#ax2.imshow(mag_binary, cmap='gray')\n",
    "#ax2.set_title('Thresholded Magnitude', fontsize=20)\n",
    "#plt.subplots_adjust(left=0., right=1, top=0.9, bottom=0.)"
   ]
  },
  {
   "cell_type": "code",
   "execution_count": 7,
   "metadata": {
    "collapsed": false
   },
   "outputs": [],
   "source": [
    "# Gradient direction threshold function\n",
    "def dir_threshold(img, sobel_kernel=3, thresh=(0, np.pi/2)):\n",
    "    abs_sobelx, abs_sobely = process_image(img, sobel_kernel)\n",
    "    direction = np.arctan2(abs_sobely, abs_sobelx)\n",
    "    dir_binary = np.zeros_like(direction)\n",
    "    dir_binary[(direction >= thresh[0]) & (direction <= thresh[1])] = 1\n",
    "    return dir_binary\n",
    "    \n",
    "#dir_binary = dir_threshold(sample_img, sobel_kernel=15, thresh=(0.8, 1.2))\n",
    "#f, (ax1, ax2) = plt.subplots(1, 2, figsize=(24, 9))\n",
    "#f.tight_layout()\n",
    "#ax1.imshow(sample_img)\n",
    "#ax1.set_title('Original Image', fontsize=20)\n",
    "#ax2.imshow(dir_binary, cmap='gray')\n",
    "#ax2.set_title('Thresholded Grad. Dir.', fontsize=20)\n",
    "#plt.subplots_adjust(left=0., right=1, top=0.9, bottom=0.)"
   ]
  },
  {
   "cell_type": "markdown",
   "metadata": {},
   "source": [
    "## Colorspace"
   ]
  },
  {
   "cell_type": "code",
   "execution_count": 8,
   "metadata": {
    "collapsed": false
   },
   "outputs": [],
   "source": [
    "# Grayscale threshold function\n",
    "def gray_threshold(img, thresh=(0, 255)):\n",
    "    gray = cv2.cvtColor(img, cv2.COLOR_RGB2GRAY)\n",
    "    gray_binary = np.zeros_like(gray)\n",
    "    gray_binary[(gray > thresh[0]) & (gray <= thresh[1])] = 1\n",
    "    return gray_binary\n",
    "\n",
    "#gray_binary = gray_threshold(sample_img, thresh = (205, 255))\n",
    "#f, (ax1, ax2) = plt.subplots(1, 2, figsize=(24, 9))\n",
    "#f.tight_layout()\n",
    "#ax1.imshow(cv2.cvtColor(sample_img, cv2.COLOR_RGB2GRAY), cmap='gray')\n",
    "#ax1.set_title('Gray Image', fontsize=20)\n",
    "#ax2.imshow(gray_binary, cmap='gray')\n",
    "#ax2.set_title('Thresholded Gray', fontsize=20)\n",
    "#plt.subplots_adjust(left=0., right=1, top=0.9, bottom=0.)"
   ]
  },
  {
   "cell_type": "code",
   "execution_count": 9,
   "metadata": {
    "collapsed": true
   },
   "outputs": [],
   "source": [
    "# RGB channels threshold function\n",
    "def rgb_threshold(img, channel='r', thresh=(0, 255)):\n",
    "    R = img[:,:,0]\n",
    "    G = img[:,:,1]\n",
    "    B = img[:,:,2]\n",
    "    if channel == 'r': ch = R\n",
    "    if channel == 'g': ch = G\n",
    "    if channel == 'b': ch = B\n",
    "    rgb_binary = np.zeros_like(ch)\n",
    "    rgb_binary[(ch > thresh[0]) & (ch <= thresh[1])] = 1\n",
    "    return rgb_binary\n",
    "\n",
    "#rgb_binary = rgb_threshold(sample_img, channel='r', thresh=(225, 255))\n",
    "#f, (ax1, ax2) = plt.subplots(1, 2, figsize=(24, 9))\n",
    "#f.tight_layout()\n",
    "#ax1.imshow(sample_img)\n",
    "#ax1.set_title('Original Image', fontsize=20)\n",
    "#ax2.imshow(rgb_binary, cmap='gray')\n",
    "#ax2.set_title('Thresholded Red', fontsize=20)\n",
    "#plt.subplots_adjust(left=0., right=1, top=0.9, bottom=0.)"
   ]
  },
  {
   "cell_type": "code",
   "execution_count": 10,
   "metadata": {
    "collapsed": false
   },
   "outputs": [],
   "source": [
    "# HLS colorspace threshold function\n",
    "def hls_threshold(img, channel='s', thresh=(0, 255)):\n",
    "    hls = cv2.cvtColor(img, cv2.COLOR_RGB2HLS).astype(np.float)\n",
    "    H = hls[:,:,0]\n",
    "    L = hls[:,:,1]\n",
    "    S = hls[:,:,2]\n",
    "    if channel == 'h': ch = H\n",
    "    if channel == 'l': ch = L\n",
    "    if channel == 's': ch = S\n",
    "    binary = np.zeros_like(ch)\n",
    "    binary[(ch > thresh[0]) & (ch <= thresh[1])] = 1\n",
    "    return binary\n",
    "\n",
    "#hls_binary = hls_threshold(sample_img, channel='s', thresh=(170, 255))\n",
    "#f, (ax1, ax2) = plt.subplots(1, 2, figsize=(24, 9))\n",
    "#f.tight_layout()\n",
    "#ax1.imshow(sample_img)\n",
    "#ax1.set_title('Original Image', fontsize=20)\n",
    "#ax2.imshow(hls_binary, cmap='gray')\n",
    "#ax2.set_title('Thresholded S Channel', fontsize=20)\n",
    "#plt.subplots_adjust(left=0., right=1, top=0.9, bottom=0.)"
   ]
  },
  {
   "cell_type": "markdown",
   "metadata": {},
   "source": [
    "### Apply and combine thresholds"
   ]
  },
  {
   "cell_type": "code",
   "execution_count": 27,
   "metadata": {
    "collapsed": false,
    "deletable": true,
    "editable": true
   },
   "outputs": [],
   "source": [
    "def threshold_combo(img):\n",
    "    img = np.copy(img) \n",
    "\n",
    "    # Threshold gray \n",
    "    gr_binary = gray_threshold(img, thresh = (205, 255))\n",
    "\n",
    "    # Threshold S channel\n",
    "    s_binary = hls_threshold(img, channel='s', thresh=(205, 255))\n",
    "\n",
    "    # Threshold L channel\n",
    "    l_binary = hls_threshold(img, channel='l', thresh=(200, 255))\n",
    "\n",
    "    # Threshold R channel\n",
    "    r_binary = rgb_threshold(img, channel='r', thresh=(225, 255))\n",
    "    \n",
    "    # Combined color threshold\n",
    "    slr_binary = np.zeros_like(s_binary)\n",
    "    slr_binary[ [(s_binary == 1) | (l_binary == 1)  | (r_binary == 1)] ] = 1\n",
    "\n",
    "    # Threshold x gradient\n",
    "    sxbinary = abs_sobel_thresh(img, orient='x', sobel_kernel=3, thresh=(20, 100))\n",
    "    \n",
    "    # Threshold color channel\n",
    "    color_binary = np.dstack(( np.zeros_like(sxbinary), sxbinary, slr_binary))\n",
    "\n",
    "    # Combined binary thresholds\n",
    "    combined_binary = np.zeros_like(sxbinary)\n",
    "    combined_binary[(slr_binary == 1) | (sxbinary == 1) | (gr_binary == 1)] = 1\n",
    "\n",
    "    return color_binary, combined_binary\n",
    "    \n",
    "#color_binary, combined_binary = threshold_combo(sample_img)\n",
    "#f, (ax1, ax2) = plt.subplots(1, 2, figsize=(24, 9))\n",
    "#f.tight_layout()\n",
    "#ax1.imshow(color_binary)\n",
    "#ax1.set_title('Color Binary', fontsize=20)\n",
    "#ax2.imshow(combined_binary, cmap='gray')\n",
    "#ax2.set_title('Combined Binary', fontsize=20)\n",
    "#plt.subplots_adjust(left=0., right=1, top=0.9, bottom=0.)"
   ]
  },
  {
   "cell_type": "markdown",
   "metadata": {},
   "source": [
    "## Apply a perspective transform to rectify binary image (\"birds-eye view\")."
   ]
  },
  {
   "cell_type": "code",
   "execution_count": 28,
   "metadata": {
    "collapsed": false
   },
   "outputs": [],
   "source": [
    "def get_shapes(img):\n",
    "    img_size = (img.shape[1], img.shape[0])\n",
    "    # left,top --> left,bottom --> right,bottom --> right, top\n",
    "    top = img_size[1] * 0.62\n",
    "    bottom = img_size[1] \n",
    "    left_top = img_size[0] * 0.47\n",
    "    right_top = img_size[0] * 0.53\n",
    "    left_bottom = img_size[0] * 0.155\n",
    "    right_bottom = img_size[0] * 0.87\n",
    "    src = np.float32 ([[left_top, top], [left_bottom,bottom], [right_bottom, bottom], [right_top, top]])\n",
    "    dst = np.float32([[img_size[0] /4, 0], [img_size[0] /4, img_size[1]], [img_size[0] * 3/4, img_size[1] ], [img_size[0] * 3/4, 0]])\n",
    "    return src, dst"
   ]
  },
  {
   "cell_type": "code",
   "execution_count": 29,
   "metadata": {
    "collapsed": false
   },
   "outputs": [],
   "source": [
    "def corners_unwarp(img, src, dst):\n",
    "    img_size = (img.shape[1], img.shape[0])\n",
    "    M = cv2.getPerspectiveTransform(src, dst)\n",
    "    warped = cv2.warpPerspective(img, M, img_size, flags=cv2.INTER_LINEAR)\n",
    "    Minv = cv2.getPerspectiveTransform(dst,src)\n",
    "    return warped, M, Minv\n",
    "\n",
    "# undst_sample_img, color_binary, combined_binary\n",
    "#binary_warped, perspective_M, Minv = corners_unwarp(combined_binary, src, dst)\n",
    "#warped, perspective_M, Minv = corners_unwarp(undst_sample_img, src, dst)\n",
    "#f, (ax1, ax2) = plt.subplots(1, 2, figsize=(24, 9))\n",
    "#f.tight_layout()\n",
    "#ax1.imshow(undst_sample_img, cmap='gray')\n",
    "#ax1.set_title('Undistorted Sample Image', fontsize=20)\n",
    "#ax2.imshow(binary_warped, cmap='gray')\n",
    "#ax2.set_title('Undistorted Warped Image', fontsize=20)\n",
    "#plt.subplots_adjust(left=0., right=1, top=0.9, bottom=0.)"
   ]
  },
  {
   "cell_type": "code",
   "execution_count": 30,
   "metadata": {
    "collapsed": false,
    "deletable": true,
    "editable": true
   },
   "outputs": [],
   "source": [
    "# check src coordinates\n",
    "def draw_lines(img, src):\n",
    "    img = np.copy(img)\n",
    "    src = src.astype(np.int32)\n",
    "    src = src.reshape((-1,1,2))\n",
    "    img = cv2.polylines(img,[src], True, (255,255,255), 3)\n",
    "    return img\n",
    "\n",
    "#region = draw_lines(undist_sample_img, src)\n",
    "#plt.imshow(region)\n",
    "#src = src.astype(np.int32)\n",
    "#print(src)"
   ]
  },
  {
   "cell_type": "code",
   "execution_count": 31,
   "metadata": {
    "collapsed": false,
    "deletable": true,
    "editable": true
   },
   "outputs": [],
   "source": [
    "# check dst coordinates\n",
    "def draw_lines(img, dst):\n",
    "    img = np.copy(img)\n",
    "    dst = dst.astype(np.int32)\n",
    "    dst = dst.reshape((-1,1,2))\n",
    "    img = cv2.polylines(img,[dst], True, (255,255,255), 5)\n",
    "    return img\n",
    "\n",
    "#region = draw_lines(warped, dst)\n",
    "#plt.imshow(region)\n",
    "#dst = dst.astype(np.int32)\n",
    "#print(dst)"
   ]
  },
  {
   "cell_type": "markdown",
   "metadata": {},
   "source": [
    "## Detect lane pixels and fit to find the lane boundary."
   ]
  },
  {
   "cell_type": "code",
   "execution_count": 32,
   "metadata": {
    "collapsed": false
   },
   "outputs": [],
   "source": [
    "def detect_lane_boundary(binary_warped):\n",
    "    # Histogram version for detecting lane pixels \n",
    "    histogram = np.sum(binary_warped[binary_warped.shape[0]//2:,:], axis=0)\n",
    "    # Output image to draw on and  visualize the result\n",
    "    out_img = np.dstack((binary_warped, binary_warped, binary_warped))*255\n",
    "    # Peak of the left and right halves of the histogram = starting point for the left and right lines\n",
    "    midpoint = np.int(histogram.shape[0]/2)\n",
    "    leftx_base = np.argmax(histogram[:midpoint])\n",
    "    rightx_base = np.argmax(histogram[midpoint:]) + midpoint\n",
    "    # Number of sliding windows\n",
    "    nwindows = 9\n",
    "    # Height of windows\n",
    "    window_height = np.int(binary_warped.shape[0]/nwindows)\n",
    "    # x and y positions of all nonzero pixels in the image\n",
    "    nonzero = binary_warped.nonzero()\n",
    "    nonzeroy = np.array(nonzero[0])\n",
    "    nonzerox = np.array(nonzero[1])\n",
    "    # Current positions to be updated for each window\n",
    "    leftx_current = leftx_base\n",
    "    rightx_current = rightx_base\n",
    "    # Width of the windows +/- margin\n",
    "    margin = 100\n",
    "    # Minimum number of pixels found to recenter window\n",
    "    minpix = 50\n",
    "    # Left and right lane pixel indices lists\n",
    "    left_lane_inds = []\n",
    "    right_lane_inds = []\n",
    "\n",
    "    for window in range(nwindows):\n",
    "        # Window boundaries in x and y (and right and left)\n",
    "        win_y_low = binary_warped.shape[0] - (window+1)*window_height\n",
    "        win_y_high = binary_warped.shape[0] - window*window_height\n",
    "        win_xleft_low = leftx_current - margin\n",
    "        win_xleft_high = leftx_current + margin\n",
    "        win_xright_low = rightx_current - margin\n",
    "        win_xright_high = rightx_current + margin\n",
    "\n",
    "        cv2.rectangle(out_img,(win_xleft_low,win_y_low),(win_xleft_high,win_y_high),(0,255,0), 2) \n",
    "        cv2.rectangle(out_img,(win_xright_low,win_y_low),(win_xright_high,win_y_high),(0,255,0), 2) \n",
    "\n",
    "        # Nonzero pixels in x and y within the window\n",
    "        good_left_inds = ((nonzeroy >= win_y_low) & (nonzeroy < win_y_high) & (nonzerox >= win_xleft_low) & (nonzerox < win_xleft_high)).nonzero()[0]\n",
    "        good_right_inds = ((nonzeroy >= win_y_low) & (nonzeroy < win_y_high) & (nonzerox >= win_xright_low) & (nonzerox < win_xright_high)).nonzero()[0]\n",
    "\n",
    "        left_lane_inds.append(good_left_inds)\n",
    "        right_lane_inds.append(good_right_inds)\n",
    "        # Recenter next window on their mean position if > minpix pixels\n",
    "        if len(good_left_inds) > minpix:\n",
    "            leftx_current = np.int(np.mean(nonzerox[good_left_inds]))\n",
    "        if len(good_right_inds) > minpix:        \n",
    "            rightx_current = np.int(np.mean(nonzerox[good_right_inds]))\n",
    "\n",
    "    left_lane_inds = np.concatenate(left_lane_inds)\n",
    "    right_lane_inds = np.concatenate(right_lane_inds)\n",
    "\n",
    "    # Left and right line pixel positions\n",
    "    leftx = nonzerox[left_lane_inds]\n",
    "    lefty = nonzeroy[left_lane_inds] \n",
    "    rightx = nonzerox[right_lane_inds]\n",
    "    righty = nonzeroy[right_lane_inds] \n",
    "\n",
    "    # Second order polynomial of each\n",
    "    left_fit = np.polyfit(lefty, leftx, 2)\n",
    "    right_fit = np.polyfit(righty, rightx, 2)\n",
    "\n",
    "    # Visualization\n",
    "    # x and y values for plotting\n",
    "    ploty = np.linspace(0, binary_warped.shape[0]-1, binary_warped.shape[0] )\n",
    "    left_fitx = left_fit[0]*ploty**2 + left_fit[1]*ploty + left_fit[2]\n",
    "    right_fitx = right_fit[0]*ploty**2 + right_fit[1]*ploty + right_fit[2]\n",
    "\n",
    "    # Raw data\n",
    "    out_img[nonzeroy[left_lane_inds], nonzerox[left_lane_inds]] = [255, 0, 0]\n",
    "    out_img[nonzeroy[right_lane_inds], nonzerox[right_lane_inds]] = [0, 0, 255]\n",
    "    #plt.imshow(out_img)\n",
    "\n",
    "    # Plot lines\n",
    "    #plt.plot(left_fitx, ploty, color='yellow')\n",
    "    #plt.plot(right_fitx, ploty, color='yellow')\n",
    "    #plt.xlim(0, 1280)\n",
    "    #plt.ylim(720, 0)\n",
    "    \n",
    "    # Lane curvature\n",
    "    left_curverad, right_curverad, mean_curverad = lane_curvature(ploty, leftx, lefty, rightx, righty)\n",
    "\n",
    "    return left_fit, right_fit, left_fitx, right_fitx, ploty, left_curverad, right_curverad, mean_curverad\n",
    "\n",
    "#left_fit, right_fit, left_fitx, right_fitx, ploty, left_curverad, right_curverad, mean_curverad = detect_lane_boundary(binary_warped)"
   ]
  },
  {
   "cell_type": "code",
   "execution_count": 33,
   "metadata": {
    "collapsed": false
   },
   "outputs": [],
   "source": [
    "# FOR VIDEO\n",
    "# binary_warped = combined_binary for new image\n",
    "# Nonzero pixels in x and y within new window\n",
    "def detect_lane_boundary2(binary_warped, left_fit, right_fit):\n",
    "    nonzero = binary_warped.nonzero()\n",
    "    nonzeroy = np.array(nonzero[0])\n",
    "    nonzerox = np.array(nonzero[1])\n",
    "    margin = 100\n",
    "\n",
    "    # Use the polynomial derived from the old image \n",
    "    left_lane_inds = ((nonzerox > (left_fit[0]*(nonzeroy**2) + left_fit[1]*nonzeroy + left_fit[2] - margin)) & (nonzerox < (left_fit[0]*(nonzeroy**2) + left_fit[1]*nonzeroy + left_fit[2] + margin))) \n",
    "    right_lane_inds = ((nonzerox > (right_fit[0]*(nonzeroy**2) + right_fit[1]*nonzeroy + right_fit[2] - margin)) & (nonzerox < (right_fit[0]*(nonzeroy**2) + right_fit[1]*nonzeroy + right_fit[2] + margin)))  \n",
    "\n",
    "    # Left and right line pixel positions\n",
    "    leftx = nonzerox[left_lane_inds]\n",
    "    lefty = nonzeroy[left_lane_inds] \n",
    "    rightx = nonzerox[right_lane_inds]\n",
    "    righty = nonzeroy[right_lane_inds]\n",
    "\n",
    "    # Second order polynomial for left and right line pixel positions\n",
    "    left_fit = np.polyfit(lefty, leftx, 2)\n",
    "    right_fit = np.polyfit(righty, rightx, 2)\n",
    "\n",
    "    # x and y values for plotting\n",
    "    ploty = np.linspace(0, binary_warped.shape[0]-1, binary_warped.shape[0] )\n",
    "    left_fitx = left_fit[0]*ploty**2 + left_fit[1]*ploty + left_fit[2]\n",
    "    right_fitx = right_fit[0]*ploty**2 + right_fit[1]*ploty + right_fit[2]\n",
    "\n",
    "    # out_img = an image to draw on \n",
    "    # window_img = an image to show the selection window\n",
    "    out_img = np.dstack((binary_warped, binary_warped, binary_warped))*255\n",
    "    window_img = np.zeros_like(out_img)\n",
    "\n",
    "    # Left and right line pixels in out_img\n",
    "    out_img[nonzeroy[left_lane_inds], nonzerox[left_lane_inds]] = [255, 0, 0]\n",
    "    out_img[nonzeroy[right_lane_inds], nonzerox[right_lane_inds]] = [0, 0, 255]\n",
    "\n",
    "    # Generate a polygon to illustrate the search window area\n",
    "    # And recast the x and y points into usable format for cv2.fillPoly()\n",
    "    left_line_window1 = np.array([np.transpose(np.vstack([left_fitx-margin, ploty]))])\n",
    "    left_line_window2 = np.array([np.flipud(np.transpose(np.vstack([left_fitx+margin, ploty])))])\n",
    "    left_line_pts = np.hstack((left_line_window1, left_line_window2))\n",
    "    right_line_window1 = np.array([np.transpose(np.vstack([right_fitx-margin, ploty]))])\n",
    "    right_line_window2 = np.array([np.flipud(np.transpose(np.vstack([right_fitx+margin, ploty])))])\n",
    "    right_line_pts = np.hstack((right_line_window1, right_line_window2))\n",
    "\n",
    "    # Draw the lane onto the warped blank image\n",
    "    cv2.fillPoly(window_img, np.int_([left_line_pts]), (0,255, 0))\n",
    "    cv2.fillPoly(window_img, np.int_([right_line_pts]), (0,255, 0))\n",
    "    result = cv2.addWeighted(out_img, 1, window_img, 0.3, 0)\n",
    "    #plt.imshow(result)\n",
    "    #plt.plot(left_fitx, ploty, color='yellow')\n",
    "    #plt.plot(right_fitx, ploty, color='yellow')\n",
    "    #plt.xlim(0, 1280)\n",
    "    #plt.ylim(720, 0)\n",
    "    \n",
    "    # Lane curvature\n",
    "    left_curverad, right_curverad, mean_curverad = lane_curvature(ploty, leftx, lefty, rightx, righty)\n",
    "\n",
    "    return left_fit, right_fit, left_fitx, right_fitx, ploty, left_curverad, right_curverad, mean_curverad\n",
    "\n",
    "#left_fit, right_fit, left_fitx, right_fitx, ploty, left_curverad, right_curverad, mean_curverad = detect_lane_boundary2(binary_warped, left_fit, right_fit)\n"
   ]
  },
  {
   "cell_type": "markdown",
   "metadata": {
    "deletable": true,
    "editable": true
   },
   "source": [
    "## Determine the curvature of the lane and vehicle position with respect to center."
   ]
  },
  {
   "cell_type": "code",
   "execution_count": 34,
   "metadata": {
    "collapsed": false,
    "deletable": true,
    "editable": true
   },
   "outputs": [],
   "source": [
    "def lane_curvature(ploty, leftx, lefty, rightx, righty):\n",
    "    y_eval = np.max(ploty)\n",
    "    ym_per_pix = 30/720 # meters per pixel in y dimension\n",
    "    xm_per_pix = 3.7/700 # meters per pixel in x dimension\n",
    "\n",
    "    left_fit_cr = np.polyfit(lefty*ym_per_pix, leftx*xm_per_pix, 2)\n",
    "    right_fit_cr = np.polyfit(righty*ym_per_pix, rightx*xm_per_pix, 2)\n",
    "\n",
    "    # New radii of curvature\n",
    "    left_curverad = ((1 + (2*left_fit_cr[0]*y_eval*ym_per_pix + left_fit_cr[1])**2)**1.5) / np.absolute(2*left_fit_cr[0])\n",
    "    right_curverad = ((1 + (2*right_fit_cr[0]*y_eval*ym_per_pix + right_fit_cr[1])**2)**1.5) / np.absolute(2*right_fit_cr[0])\n",
    "    mean_curverad = round(np.mean([left_curverad, right_curverad]), 2)\n",
    "    return left_curverad, right_curverad, mean_curverad\n"
   ]
  },
  {
   "cell_type": "markdown",
   "metadata": {
    "deletable": true,
    "editable": true
   },
   "source": [
    "## Warp the detected lane boundaries back onto the original image."
   ]
  },
  {
   "cell_type": "code",
   "execution_count": 35,
   "metadata": {
    "collapsed": false,
    "deletable": true,
    "editable": true
   },
   "outputs": [],
   "source": [
    "# warped = binary_warped of the undst_sample_img\n",
    "def reverse_transform(undst_sample_img, warped, left_fitx, right_fitx, ploty, Minv):\n",
    "    # warp_zero = an image to draw the lines on\n",
    "    warp_zero = np.zeros_like(warped).astype(np.uint8)\n",
    "    #color_warp = np.dstack((warp_zero, warp_zero, warp_zero))\n",
    "    color_warp = warp_zero\n",
    "\n",
    "    # Recast the x and y points into usable format for cv2.fillPoly()\n",
    "    pts_left = np.array([np.transpose(np.vstack([left_fitx, ploty]))])\n",
    "    pts_right = np.array([np.flipud(np.transpose(np.vstack([right_fitx, ploty])))])\n",
    "    pts = np.hstack((pts_left, pts_right))\n",
    "\n",
    "    # Draw the lane onto the warped blank image\n",
    "    cv2.fillPoly(color_warp, np.int_([pts]), (0,255, 0))\n",
    "\n",
    "    # Warp the blank back to original image space using inverse perspective matrix (Minv)\n",
    "    newwarp = cv2.warpPerspective(color_warp, Minv, (warped.shape[1], warped.shape[0])) \n",
    "    # Combine the result with the original image\n",
    "    result = cv2.addWeighted(undst_sample_img, 1, newwarp, 0.3, 0)\n",
    "    #plt.imshow(result)\n",
    "    return result\n",
    "\n",
    "#reverse_transform(undst_sample_img, warped, left_fitx, right_fitx, ploty, Minv)\n"
   ]
  },
  {
   "cell_type": "markdown",
   "metadata": {
    "deletable": true,
    "editable": true
   },
   "source": [
    "## Determine the curvature of the lane and vehicle position with respect to center."
   ]
  },
  {
   "cell_type": "code",
   "execution_count": 36,
   "metadata": {
    "collapsed": false
   },
   "outputs": [],
   "source": [
    "def lane_curvature(ploty, leftx, lefty, rightx, righty):\n",
    "    y_eval = np.max(ploty)\n",
    "    ym_per_pix = 30/720 # meters per pixel in y dimension\n",
    "    xm_per_pix = 3.7/700 # meters per pixel in x dimension\n",
    "\n",
    "    left_fit_cr = np.polyfit(lefty*ym_per_pix, leftx*xm_per_pix, 2)\n",
    "    right_fit_cr = np.polyfit(righty*ym_per_pix, rightx*xm_per_pix, 2)\n",
    "\n",
    "    # New radii of curvature\n",
    "    left_curverad = ((1 + (2*left_fit_cr[0]*y_eval*ym_per_pix + left_fit_cr[1])**2)**1.5) / np.absolute(2*left_fit_cr[0])\n",
    "    right_curverad = ((1 + (2*right_fit_cr[0]*y_eval*ym_per_pix + right_fit_cr[1])**2)**1.5) / np.absolute(2*right_fit_cr[0])\n",
    "    mean_curverad = round(np.mean([left_curverad, right_curverad]), 2)\n",
    "    return left_curverad, right_curverad, mean_curverad\n"
   ]
  },
  {
   "cell_type": "markdown",
   "metadata": {},
   "source": [
    "## Output visual display of the lane boundaries and numerical estimation of lane curvature and vehicle position."
   ]
  },
  {
   "cell_type": "code",
   "execution_count": 37,
   "metadata": {
    "collapsed": false
   },
   "outputs": [],
   "source": [
    "# Compute offset\n",
    "def show_lane(result, left_fitx, right_fitx, mean_curverad):\n",
    "    img_ctr = result.shape[1] / 2\n",
    "    lane_ctr = ((right_fitx[-1] - left_fitx[-1]) / 2) + left_fitx[-1]\n",
    "    offset = round((img_ctr - lane_ctr) * 3.7 / 700, 2)\n",
    "\n",
    "    text1 = 'estimation of lane curvature: ' + str(mean_curverad) + ' m'\n",
    "    org1 = (50,50)\n",
    "    text2 = 'vehicle position from center : ' + str(offset) + ' m'\n",
    "    org2 = (50,100)\n",
    "    font = cv2.FONT_HERSHEY_SIMPLEX\n",
    "    scale = 1.5\n",
    "    color = (255,255,255)\n",
    "    thickness = 2\n",
    "    cv2.putText(result, text1, org1, font, scale, color, thickness)\n",
    "    cv2.putText(result, text2, org2, font, scale, color, thickness)\n",
    "    return result\n",
    "\n",
    "#result = show_lane(result, left_fitx, right_fitx, mean_curverad)\n",
    "#plt.imshow(result)"
   ]
  },
  {
   "cell_type": "markdown",
   "metadata": {
    "deletable": true,
    "editable": true
   },
   "source": [
    "## Main Pipeline function"
   ]
  },
  {
   "cell_type": "code",
   "execution_count": 38,
   "metadata": {
    "collapsed": false,
    "deletable": true,
    "editable": true
   },
   "outputs": [],
   "source": [
    "def pipeline(img, s_thresh=(170, 255), sx_thresh=(20, 100)):\n",
    "    #img = mpimg.imread(img)\n",
    "    img = np.copy(img)\n",
    "    # Compute the camera calibration matrix and distortion coefficients given a set of chessboard images.\n",
    "    # Read in the saved camera matrix and distortion coefficients\n",
    "    dist_pickle = pickle.load( open( \"../output_images/wide_dist_pickle.p\", \"rb\" ) )\n",
    "    mtx = dist_pickle[\"mtx\"]\n",
    "    dist = dist_pickle[\"dist\"]\n",
    "    # Apply a distortion correction to raw images.\n",
    "    undst = cal_undistort(img, mtx, dist)\n",
    "    # Use color transforms, gradients, etc., to create a thresholded binary image.\n",
    "    color_binary, combined_binary = threshold_combo(undst)\n",
    "    #Apply a perspective transform to rectify binary image (\"birds-eye view\").\n",
    "    src, dst = get_shapes(undst)\n",
    "    binary_warped, perspective_M, Minv = corners_unwarp(combined_binary, src, dst)\n",
    "    #Detect lane pixels and fit to find the lane boundary.\n",
    "    #Determine the curvature of the lane and vehicle position with respect to center.\n",
    "    #left_fit = np.array([0,0,0])\n",
    "    #right_fit = np.array([0,0,0])\n",
    "    left_fit = np.empty([3])\n",
    "    right_fit = np.empty([3])\n",
    "    #if not (left_fit.size & right_fit.size):\n",
    "    left_fit, right_fit, left_fitx, right_fitx, ploty, left_curverad, right_curverad, mean_curverad = detect_lane_boundary(binary_warped)\n",
    "    #else:\n",
    "    #    left_fit, right_fit, left_fitx, right_fitx, ploty, left_curverad, right_curverad, mean_curverad = detect_lane_boundary2(binary_warped, left_fit, right_fit)\n",
    "    #Warp the detected lane boundaries back onto the original image.\n",
    "    warped, perspective_M, Minv = corners_unwarp(undst, src, dst)\n",
    "    unwarped = reverse_transform(undst, warped, left_fitx, right_fitx, ploty, Minv)\n",
    "    #Output visual display of the lane boundaries and numerical estimation of lane curvature and vehicle position.\n",
    "    result = show_lane(unwarped, left_fitx, right_fitx, mean_curverad)\n",
    "    return result"
   ]
  },
  {
   "cell_type": "markdown",
   "metadata": {},
   "source": [
    "## Test on images"
   ]
  },
  {
   "cell_type": "code",
   "execution_count": null,
   "metadata": {
    "collapsed": true
   },
   "outputs": [],
   "source": [
    "# Calibrate camera\n",
    "calibration_images = glob.glob('../camera_cal/calibration*.jpg')\n",
    "objpoints, imgpoints = calibrate_camera(calibration_images)\n",
    "chessboard = '../camera_cal/calibration1.jpg'\n",
    "mtx, dist = distort_coeffs(chessboard, objpoints, imgpoints)\n",
    "\n",
    "dist_pickle = {}\n",
    "dist_pickle[\"mtx\"] = mtx\n",
    "dist_pickle[\"dist\"] = dist\n",
    "pickle.dump( dist_pickle, open( \"../output_images/wide_dist_pickle.p\", \"wb\" ) )"
   ]
  },
  {
   "cell_type": "code",
   "execution_count": 39,
   "metadata": {
    "collapsed": false
   },
   "outputs": [],
   "source": [
    "# List of test images\n",
    "#test_images = glob.glob('../test_images/straight_lines*.jpg')\n",
    "test_images = glob.glob('../test_images/test*.jpg')\n",
    "\n",
    "# Test pipeline on images\n",
    "for idx, test_image in enumerate(test_images):\n",
    "    img_name = test_image\n",
    "    test_img = mpimg.imread(img_name)\n",
    "    test_result = pipeline(test_img)\n",
    "    \n",
    "    # Plot the result\n",
    "    f, (ax1, ax2) = plt.subplots(1, 2, figsize=(24, 9))\n",
    "    f.tight_layout()\n",
    "    ax1.imshow(test_img)\n",
    "    ax1.set_title('Original Image', fontsize=30)\n",
    "    ax2.imshow(test_result)\n",
    "    ax2.set_title('Pipeline Result', fontsize=30)\n",
    "    plt.subplots_adjust(left=0., right=1, top=0.9, bottom=0.)\n",
    "\n",
    "    # Save images to output folder\n",
    "    #write_name = '../output_images/result_test_images/' + str(idx) + '.jpg'\n",
    "    #cv2.imwrite(write_name, test_result)      "
   ]
  },
  {
   "cell_type": "code",
   "execution_count": null,
   "metadata": {
    "collapsed": true
   },
   "outputs": [],
   "source": []
  },
  {
   "cell_type": "code",
   "execution_count": null,
   "metadata": {
    "collapsed": true
   },
   "outputs": [],
   "source": []
  },
  {
   "cell_type": "code",
   "execution_count": null,
   "metadata": {
    "collapsed": true
   },
   "outputs": [],
   "source": []
  },
  {
   "cell_type": "code",
   "execution_count": null,
   "metadata": {
    "collapsed": false,
    "deletable": true,
    "editable": true
   },
   "outputs": [],
   "source": [
    "# Convolution version\n",
    "# Read in a thresholded image\n",
    "warped = binary_warped\n",
    "# window settings\n",
    "window_width = 50 \n",
    "window_height = 80 # Break image into 9 vertical layers since image height is 720\n",
    "margin = 100 # How much to slide left and right for searching\n",
    "\n",
    "def window_mask(width, height, img_ref, center, level):\n",
    "    output = np.zeros_like(img_ref)\n",
    "    output[int(img_ref.shape[0]-(level+1)*height):int(img_ref.shape[0]-level*height),max(0,int(center-width/2)):min(int(center+width/2),img_ref.shape[1])] = 1\n",
    "    return output\n",
    "\n",
    "def find_window_centroids(image, window_width, window_height, margin):\n",
    "    \n",
    "    window_centroids = [] # Store the (left,right) window centroid positions per level\n",
    "    window = np.ones(window_width) # Create our window template that we will use for convolutions\n",
    "    \n",
    "    # First find the two starting positions for the left and right lane by using np.sum to get the vertical image slice\n",
    "    # and then np.convolve the vertical image slice with the window template \n",
    "    \n",
    "    # Sum quarter bottom of image to get slice, could use a different ratio\n",
    "    l_sum = np.sum(warped[int(3*warped.shape[0]/4):,:int(warped.shape[1]/2)], axis=0)\n",
    "    l_center = np.argmax(np.convolve(window,l_sum))-window_width/2\n",
    "    r_sum = np.sum(warped[int(3*warped.shape[0]/4):,int(warped.shape[1]/2):], axis=0)\n",
    "    r_center = np.argmax(np.convolve(window,r_sum))-window_width/2+int(warped.shape[1]/2)\n",
    "    \n",
    "    # Add what we found for the first layer\n",
    "    window_centroids.append((l_center,r_center))\n",
    "    \n",
    "    # Go through each layer looking for max pixel locations\n",
    "    for level in range(1,(int)(warped.shape[0]/window_height)):\n",
    "        # convolve the window into the vertical slice of the image\n",
    "        image_layer = np.sum(warped[int(warped.shape[0]-(level+1)*window_height):int(warped.shape[0]-level*window_height),:], axis=0)\n",
    "        conv_signal = np.convolve(window, image_layer)\n",
    "        # Find the best left centroid by using past left center as a reference\n",
    "        # Use window_width/2 as offset because convolution signal reference is at right side of window, not center of window\n",
    "        offset = window_width/2\n",
    "        l_min_index = int(max(l_center+offset-margin,0))\n",
    "        l_max_index = int(min(l_center+offset+margin,warped.shape[1]))\n",
    "        l_center = np.argmax(conv_signal[l_min_index:l_max_index])+l_min_index-offset\n",
    "        # Find the best right centroid by using past right center as a reference\n",
    "        r_min_index = int(max(r_center+offset-margin,0))\n",
    "        r_max_index = int(min(r_center+offset+margin,warped.shape[1]))\n",
    "        r_center = np.argmax(conv_signal[r_min_index:r_max_index])+r_min_index-offset\n",
    "        # Add what we found for that layer\n",
    "        window_centroids.append((l_center,r_center))\n",
    "\n",
    "    return window_centroids\n",
    "\n",
    "window_centroids = find_window_centroids(warped, window_width, window_height, margin)\n",
    "\n",
    "# If we found any window centers\n",
    "if len(window_centroids) > 0:\n",
    "\n",
    "    # Points used to draw all the left and right windows\n",
    "    l_points = np.zeros_like(warped)\n",
    "    r_points = np.zeros_like(warped)\n",
    "\n",
    "    # Go through each level and draw the windows \t\n",
    "    for level in range(0,len(window_centroids)):\n",
    "        # Window_mask is a function to draw window areas\n",
    "        l_mask = window_mask(window_width,window_height,warped,window_centroids[level][0],level)\n",
    "        r_mask = window_mask(window_width,window_height,warped,window_centroids[level][1],level)\n",
    "        # Add graphic points from window mask here to total pixels found \n",
    "        l_points[(l_points == 255) | ((l_mask == 1) ) ] = 255\n",
    "        r_points[(r_points == 255) | ((r_mask == 1) ) ] = 255\n",
    "\n",
    "    # Draw the results\n",
    "    template = np.array(r_points+l_points,np.uint8) # add both left and right window pixels together\n",
    "    zero_channel = np.zeros_like(template) # create a zero color channel\n",
    "    template = np.array(cv2.merge((zero_channel,template,zero_channel)),np.uint8) # make window pixels green\n",
    "    warpage = np.array(cv2.merge((warped,warped,warped)),np.uint8) # making the original road pixels 3 color channels\n",
    "    output = cv2.addWeighted(warpage, 1, template, 0.5, 0.0) # overlay the orignal road image with window results\n",
    " \n",
    "# If no window centers found, just display orginal road image\n",
    "else:\n",
    "    output = np.array(cv2.merge((warped,warped,warped)),np.uint8)\n",
    "\n",
    "# Display the final results\n",
    "plt.imshow(output)\n",
    "plt.title('window fitting results')\n",
    "plt.show()\n"
   ]
  },
  {
   "cell_type": "code",
   "execution_count": null,
   "metadata": {
    "collapsed": true
   },
   "outputs": [],
   "source": [
    "# Define a class to receive the characteristics of each line detection\n",
    "class Line():\n",
    "    def __init__(self):\n",
    "        # was the line detected in the last iteration?\n",
    "        self.detected = False  \n",
    "        # x values of the last n fits of the line\n",
    "        self.recent_xfitted = [] \n",
    "        #average x values of the fitted line over the last n iterations\n",
    "        self.bestx = None     \n",
    "        #polynomial coefficients averaged over the last n iterations\n",
    "        self.best_fit = None  \n",
    "        #polynomial coefficients for the most recent fit\n",
    "        self.current_fit = [np.array([False])]  \n",
    "        #radius of curvature of the line in some units\n",
    "        self.radius_of_curvature = None \n",
    "        #distance in meters of vehicle center from the line\n",
    "        self.line_base_pos = None \n",
    "        #difference in fit coefficients between last and new fits\n",
    "        self.diffs = np.array([0,0,0], dtype='float') \n",
    "        #x values for detected line pixels\n",
    "        self.allx = None  \n",
    "        #y values for detected line pixels\n",
    "        self.ally = None\n"
   ]
  }
 ],
 "metadata": {
  "anaconda-cloud": {},
  "kernelspec": {
   "display_name": "Python 3",
   "language": "python",
   "name": "python3"
  },
  "language_info": {
   "codemirror_mode": {
    "name": "ipython",
    "version": 3
   },
   "file_extension": ".py",
   "mimetype": "text/x-python",
   "name": "python",
   "nbconvert_exporter": "python",
   "pygments_lexer": "ipython3",
   "version": "3.5.2"
  },
  "widgets": {
   "state": {},
   "version": "1.1.2"
  }
 },
 "nbformat": 4,
 "nbformat_minor": 1
}
